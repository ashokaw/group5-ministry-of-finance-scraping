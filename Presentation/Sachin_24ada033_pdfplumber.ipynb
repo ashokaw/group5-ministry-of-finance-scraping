{
 "cells": [
  {
   "cell_type": "code",
   "execution_count": 1,
   "id": "a9a30a07",
   "metadata": {},
   "outputs": [
    {
     "name": "stdout",
     "output_type": "stream",
     "text": [
      "Requirement already satisfied: PdfPlumber in c:\\users\\dell\\anaconda3\\lib\\site-packages (0.11.7)\n",
      "Requirement already satisfied: pdfminer.six==20250506 in c:\\users\\dell\\anaconda3\\lib\\site-packages (from PdfPlumber) (20250506)\n",
      "Requirement already satisfied: Pillow>=9.1 in c:\\users\\dell\\anaconda3\\lib\\site-packages (from PdfPlumber) (10.4.0)\n",
      "Requirement already satisfied: pypdfium2>=4.18.0 in c:\\users\\dell\\anaconda3\\lib\\site-packages (from PdfPlumber) (4.30.0)\n",
      "Requirement already satisfied: charset-normalizer>=2.0.0 in c:\\users\\dell\\anaconda3\\lib\\site-packages (from pdfminer.six==20250506->PdfPlumber) (3.3.2)\n",
      "Requirement already satisfied: cryptography>=36.0.0 in c:\\users\\dell\\anaconda3\\lib\\site-packages (from pdfminer.six==20250506->PdfPlumber) (43.0.0)\n",
      "Requirement already satisfied: cffi>=1.12 in c:\\users\\dell\\anaconda3\\lib\\site-packages (from cryptography>=36.0.0->pdfminer.six==20250506->PdfPlumber) (1.17.1)\n",
      "Requirement already satisfied: pycparser in c:\\users\\dell\\anaconda3\\lib\\site-packages (from cffi>=1.12->cryptography>=36.0.0->pdfminer.six==20250506->PdfPlumber) (2.21)\n"
     ]
    }
   ],
   "source": [
    "!pip install PdfPlumber\n",
    "import pdfplumber"
   ]
  },
  {
   "cell_type": "code",
   "execution_count": 2,
   "id": "02427fe2",
   "metadata": {},
   "outputs": [
    {
     "ename": "FileNotFoundError",
     "evalue": "[Errno 2] No such file or directory: 'Buddget 2025 approved as at 21.3.25_compressed.pdf'",
     "output_type": "error",
     "traceback": [
      "\u001b[1;31m---------------------------------------------------------------------------\u001b[0m",
      "\u001b[1;31mFileNotFoundError\u001b[0m                         Traceback (most recent call last)",
      "Cell \u001b[1;32mIn[2], line 1\u001b[0m\n\u001b[1;32m----> 1\u001b[0m \u001b[38;5;28;01mwith\u001b[39;00m pdfplumber\u001b[38;5;241m.\u001b[39mopen(\u001b[38;5;124m\"\u001b[39m\u001b[38;5;124mBuddget 2025 approved as at 21.3.25_compressed.pdf\u001b[39m\u001b[38;5;124m\"\u001b[39m) \u001b[38;5;28;01mas\u001b[39;00m pdf:\n\u001b[0;32m      2\u001b[0m     text_items \u001b[38;5;241m=\u001b[39m pdf\u001b[38;5;241m.\u001b[39mpages[\u001b[38;5;241m1\u001b[39m]\u001b[38;5;241m.\u001b[39mextract_text()\n\u001b[0;32m      3\u001b[0m     \u001b[38;5;28mprint\u001b[39m(text_items)\n",
      "File \u001b[1;32mc:\\Users\\DELL\\anaconda3\\Lib\\site-packages\\pdfplumber\\pdf.py:98\u001b[0m, in \u001b[0;36mPDF.open\u001b[1;34m(cls, path_or_fp, pages, laparams, password, strict_metadata, unicode_norm, repair, gs_path, repair_setting, raise_unicode_errors)\u001b[0m\n\u001b[0;32m     96\u001b[0m     path \u001b[38;5;241m=\u001b[39m \u001b[38;5;28;01mNone\u001b[39;00m\n\u001b[0;32m     97\u001b[0m \u001b[38;5;28;01melif\u001b[39;00m \u001b[38;5;28misinstance\u001b[39m(path_or_fp, (\u001b[38;5;28mstr\u001b[39m, pathlib\u001b[38;5;241m.\u001b[39mPath)):\n\u001b[1;32m---> 98\u001b[0m     stream \u001b[38;5;241m=\u001b[39m \u001b[38;5;28mopen\u001b[39m(path_or_fp, \u001b[38;5;124m\"\u001b[39m\u001b[38;5;124mrb\u001b[39m\u001b[38;5;124m\"\u001b[39m)\n\u001b[0;32m     99\u001b[0m     stream_is_external \u001b[38;5;241m=\u001b[39m \u001b[38;5;28;01mFalse\u001b[39;00m\n\u001b[0;32m    100\u001b[0m     path \u001b[38;5;241m=\u001b[39m pathlib\u001b[38;5;241m.\u001b[39mPath(path_or_fp)\n",
      "\u001b[1;31mFileNotFoundError\u001b[0m: [Errno 2] No such file or directory: 'Buddget 2025 approved as at 21.3.25_compressed.pdf'"
     ]
    }
   ],
   "source": [
    "with pdfplumber.open(\"Buddget 2025 approved as at 21.3.25_compressed.pdf\") as pdf:\n",
    "    text_items = pdf.pages[1].extract_text()\n",
    "    print(text_items)\n",
    "    \n",
    "    "
   ]
  },
  {
   "cell_type": "code",
   "execution_count": null,
   "id": "8e92e41a",
   "metadata": {},
   "outputs": [],
   "source": [
    "with pdfplumber.open(\"Buddget 2025 approved as at 21.3.25_compressed.pdf\") as pdf:\n",
    "    for page_num, page in enumerate(pdf.pages, start=0):\n",
    "        text = page.extract_text()\n",
    "        print(f\"--- Page {page_num} ---\")\n",
    "        print(text)\n",
    "        "
   ]
  },
  {
   "cell_type": "code",
   "execution_count": null,
   "id": "64ab80f7",
   "metadata": {},
   "outputs": [],
   "source": [
    "with pdfplumber.open(\"Buddget 2025 approved as at 21.3.25_compressed.pdf\") as pdf:\n",
    "    for page_num, page in enumerate(pdf.pages, start=0):\n",
    "        tables = page.extract_tables()\n",
    "        for table in tables:\n",
    "            print(f\"--- Table on Page {page_num} ---\")\n",
    "            for row in table:\n",
    "                print(row)\n",
    "    "
   ]
  },
  {
   "cell_type": "code",
   "execution_count": null,
   "id": "d6bde1d8",
   "metadata": {},
   "outputs": [],
   "source": [
    "\n",
    "import pandas as pd\n",
    "\n",
    "with pdfplumber.open(\"Buddget 2025 approved as at 21.3.25_compressed.pdf\") as pdf:\n",
    "    for page_num, page in enumerate(pdf.pages):\n",
    "        tables = page.extract_tables()\n",
    "        for table_num, table in enumerate(tables):\n",
    "            # Convert to DataFrame\n",
    "            df = pd.DataFrame(table[1:], columns=table[0])  # First row as headers\n",
    "            print(f\"--- Table {table_num} on Page {page_num} ---\")\n",
    "            print(df)\n",
    "            \n",
    "            # Save to CSV if needed\n",
    "            df.to_csv(f\"table_page{page_num}_table{table_num}.csv\", index=False)"
   ]
  },
  {
   "cell_type": "code",
   "execution_count": null,
   "id": "a11fb3e3",
   "metadata": {},
   "outputs": [],
   "source": [
    "pdf.pages\n"
   ]
  },
  {
   "cell_type": "code",
   "execution_count": null,
   "id": "7c7e89f4",
   "metadata": {},
   "outputs": [],
   "source": [
    "with pdfplumber.open(\"Buddget 2025 approved as at 21.3.25_compressed.pdf\") as pdf:\n",
    "    for page_num, page in enumerate(pdf.pages, start=1):\n",
    "        images = page.images\n",
    "        print(f\"--- Images on Page {page_num} ---\")\n",
    "        for img in images:\n",
    "            print(f\"Image: {img}\")"
   ]
  },
  {
   "cell_type": "code",
   "execution_count": null,
   "id": "9b7c0535",
   "metadata": {},
   "outputs": [],
   "source": [
    "with pdfplumber.open(\"Buddget 2025 approved as at 21.3.25_compressed.pdf\") as pdf:\n",
    "    metadata = pdf.metadata\n",
    "    print(\"--- PDF Metadata ---\")\n",
    "    print(metadata)"
   ]
  },
  {
   "cell_type": "code",
   "execution_count": null,
   "id": "0cb6f03e",
   "metadata": {},
   "outputs": [],
   "source": [
    "with pdfplumber.open(\"Buddget 2025 approved as at 21.3.25_compressed.pdf\") as pdf:\n",
    "    page = pdf.pages[1]\n",
    "    chars = page.chars\n",
    "    print(\"--- Characters on Page 1 ---\")\n",
    "    for char in chars:\n",
    "        print(char)"
   ]
  },
  {
   "cell_type": "code",
   "execution_count": null,
   "id": "cf8ad2df",
   "metadata": {},
   "outputs": [],
   "source": [
    "with pdfplumber.open(\"Buddget 2025 approved as at 21.3.25_compressed.pdf\") as pdf:\n",
    "    all_text = pdf.pages[0].extract_text()\n",
    "    \n",
    "im = pdf.pages[1].to_image()\n",
    "im    "
   ]
  },
  {
   "cell_type": "code",
   "execution_count": null,
   "id": "18a0ca68",
   "metadata": {},
   "outputs": [],
   "source": [
    "pip install pdfplumber pandas pillow openpyxl"
   ]
  },
  {
   "cell_type": "code",
   "execution_count": null,
   "id": "d6066884",
   "metadata": {},
   "outputs": [],
   "source": [
    "pip install pdfplumber pandas pillow PyMuPDF"
   ]
  },
  {
   "cell_type": "code",
   "execution_count": null,
   "id": "0126823e",
   "metadata": {},
   "outputs": [],
   "source": [
    "import fitz  # PyMuPDF\n",
    "import os\n",
    "from PIL import Image\n",
    "from IPython.display import display\n",
    "\n",
    "def extract_images_from_pdf(pdf_path, output_dir=\"extracted_images\"):\n",
    "    \"\"\"Extract images from PDF using PyMuPDF and display them\"\"\"\n",
    "    \n",
    "    os.makedirs(output_dir, exist_ok=True)\n",
    "    pdf_document = fitz.open(pdf_path)\n",
    "    image_count = 0\n",
    "\n",
    "    for page_num in range(len(pdf_document)):\n",
    "        page = pdf_document[page_num]\n",
    "        image_list = page.get_images()\n",
    "\n",
    "        print(f\"Page {page_num + 1}: Found {len(image_list)} images\")\n",
    "\n",
    "        for img_index, img in enumerate(image_list):\n",
    "            xref = img[0]\n",
    "            pix = fitz.Pixmap(pdf_document, xref)\n",
    "\n",
    "            if pix.n - pix.alpha < 4:  # GRAY or RGB\n",
    "                image_count += 1\n",
    "                filename = f\"page_{page_num + 1}_image_{img_index + 1}.png\"\n",
    "                filepath = os.path.join(output_dir, filename)\n",
    "                pix.save(filepath)\n",
    "                print(f\"Saved: {filename}\")\n",
    "\n",
    "                # 👇 Show the image inline (if using Jupyter / VSCode interactive)\n",
    "                display(Image.open(filepath))\n",
    "\n",
    "            pix = None\n",
    "\n",
    "    pdf_document.close()\n",
    "    print(f\"Total images extracted: {image_count}\")\n",
    "\n",
    "\n",
    "# Usage\n",
    "extract_images_from_pdf(\"Buddget 2025 approved as at 21.3.25_compressed.pdf\")\n"
   ]
  },
  {
   "cell_type": "code",
   "execution_count": null,
   "id": "d0768a3e",
   "metadata": {},
   "outputs": [],
   "source": []
  }
 ],
 "metadata": {
  "kernelspec": {
   "display_name": "base",
   "language": "python",
   "name": "python3"
  },
  "language_info": {
   "codemirror_mode": {
    "name": "ipython",
    "version": 3
   },
   "file_extension": ".py",
   "mimetype": "text/x-python",
   "name": "python",
   "nbconvert_exporter": "python",
   "pygments_lexer": "ipython3",
   "version": "3.12.7"
  }
 },
 "nbformat": 4,
 "nbformat_minor": 5
}
