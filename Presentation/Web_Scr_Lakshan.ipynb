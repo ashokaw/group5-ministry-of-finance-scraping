{
 "cells": [
  {
   "cell_type": "code",
   "execution_count": 4,
   "id": "211c4b3b",
   "metadata": {},
   "outputs": [
    {
     "name": "stdout",
     "output_type": "stream",
     "text": [
      "found1tables\n"
     ]
    },
    {
     "data": {
      "text/html": [
       "<div>\n",
       "<style scoped>\n",
       "    .dataframe tbody tr th:only-of-type {\n",
       "        vertical-align: middle;\n",
       "    }\n",
       "\n",
       "    .dataframe tbody tr th {\n",
       "        vertical-align: top;\n",
       "    }\n",
       "\n",
       "    .dataframe thead th {\n",
       "        text-align: right;\n",
       "    }\n",
       "</style>\n",
       "<table border=\"1\" class=\"dataframe\">\n",
       "  <thead>\n",
       "    <tr style=\"text-align: right;\">\n",
       "      <th></th>\n",
       "      <th>Date</th>\n",
       "      <th>Circular No</th>\n",
       "      <th>Title</th>\n",
       "      <th>Download</th>\n",
       "    </tr>\n",
       "  </thead>\n",
       "  <tbody>\n",
       "    <tr>\n",
       "      <th>0</th>\n",
       "      <td>11-11-2019</td>\n",
       "      <td>173/2004(I)</td>\n",
       "      <td>භාණ්ඩාගාර මුද්‍රිත ගිණුම් ප්‍රකාශ (Printout) අ...</td>\n",
       "      <td>Download</td>\n",
       "    </tr>\n",
       "    <tr>\n",
       "      <th>1</th>\n",
       "      <td>11-11-2019</td>\n",
       "      <td>173/2004(I)</td>\n",
       "      <td>Providing Treasury Monthly Accounting Statemen...</td>\n",
       "      <td>Download</td>\n",
       "    </tr>\n",
       "    <tr>\n",
       "      <th>2</th>\n",
       "      <td>29-10-2019</td>\n",
       "      <td>270/2019</td>\n",
       "      <td>பெறுமதிசேர் வரியை கணக்கு வைத்தல்</td>\n",
       "      <td>Download</td>\n",
       "    </tr>\n",
       "    <tr>\n",
       "      <th>3</th>\n",
       "      <td>29-10-2019</td>\n",
       "      <td>270/2019</td>\n",
       "      <td>Accounting of the Value Added Tax</td>\n",
       "      <td>Download</td>\n",
       "    </tr>\n",
       "    <tr>\n",
       "      <th>4</th>\n",
       "      <td>29-10-2019</td>\n",
       "      <td>270/2019</td>\n",
       "      <td>එකතු කළ අගය මත බදු ගිණුම්ගත කිරිම</td>\n",
       "      <td>Download</td>\n",
       "    </tr>\n",
       "  </tbody>\n",
       "</table>\n",
       "</div>"
      ],
      "text/plain": [
       "         Date  Circular No                                              Title  \\\n",
       "0  11-11-2019  173/2004(I)  භාණ්ඩාගාර මුද්‍රිත ගිණුම් ප්‍රකාශ (Printout) අ...   \n",
       "1  11-11-2019  173/2004(I)  Providing Treasury Monthly Accounting Statemen...   \n",
       "2  29-10-2019     270/2019                   பெறுமதிசேர் வரியை கணக்கு வைத்தல்   \n",
       "3  29-10-2019     270/2019                  Accounting of the Value Added Tax   \n",
       "4  29-10-2019     270/2019                  එකතු කළ අගය මත බදු ගිණුම්ගත කිරිම   \n",
       "\n",
       "   Download  \n",
       "0  Download  \n",
       "1  Download  \n",
       "2  Download  \n",
       "3  Download  \n",
       "4  Download  "
      ]
     },
     "execution_count": 4,
     "metadata": {},
     "output_type": "execute_result"
    }
   ],
   "source": [
    "import pandas as pd\n",
    "url =\"https://www.treasury.gov.lk/web/state-accounts-department-circular/section/2019\"\n",
    "tables = pd.read_html(url)\n",
    "len(tables)\n",
    "print(f\"found{len(tables)}tables\")\n",
    "tables[0].head()"
   ]
  },
  {
   "cell_type": "code",
   "execution_count": 5,
   "id": "9140459b",
   "metadata": {},
   "outputs": [
    {
     "name": "stdout",
     "output_type": "stream",
     "text": [
      "found1tables\n"
     ]
    },
    {
     "data": {
      "text/html": [
       "<div>\n",
       "<style scoped>\n",
       "    .dataframe tbody tr th:only-of-type {\n",
       "        vertical-align: middle;\n",
       "    }\n",
       "\n",
       "    .dataframe tbody tr th {\n",
       "        vertical-align: top;\n",
       "    }\n",
       "\n",
       "    .dataframe thead th {\n",
       "        text-align: right;\n",
       "    }\n",
       "</style>\n",
       "<table border=\"1\" class=\"dataframe\">\n",
       "  <thead>\n",
       "    <tr style=\"text-align: right;\">\n",
       "      <th></th>\n",
       "      <th>0</th>\n",
       "      <th>1</th>\n",
       "      <th>2</th>\n",
       "    </tr>\n",
       "  </thead>\n",
       "  <tbody>\n",
       "    <tr>\n",
       "      <th>0</th>\n",
       "      <td>Serial No.</td>\n",
       "      <td>Positions of Internal Affairs Unit</td>\n",
       "      <td>Name of the Officer and Designation</td>\n",
       "    </tr>\n",
       "    <tr>\n",
       "      <th>1</th>\n",
       "      <td>01</td>\n",
       "      <td>Head of the Unit</td>\n",
       "      <td>Mrs. D.H.S. Pullaperuma Additional Secretary</td>\n",
       "    </tr>\n",
       "    <tr>\n",
       "      <th>2</th>\n",
       "      <td>02</td>\n",
       "      <td>Integrity Officer</td>\n",
       "      <td>Mr. M.M.C.P. Mohottigedera Additional Director...</td>\n",
       "    </tr>\n",
       "    <tr>\n",
       "      <th>3</th>\n",
       "      <td>03</td>\n",
       "      <td>Members</td>\n",
       "      <td>Mr.P.H.A.S.Wijayarathne Director General</td>\n",
       "    </tr>\n",
       "    <tr>\n",
       "      <th>4</th>\n",
       "      <td>04</td>\n",
       "      <td>Members</td>\n",
       "      <td>Mr. Bandula Abeyrathne Chief Internal Auditor</td>\n",
       "    </tr>\n",
       "  </tbody>\n",
       "</table>\n",
       "</div>"
      ],
      "text/plain": [
       "            0                                   1  \\\n",
       "0  Serial No.  Positions of Internal Affairs Unit   \n",
       "1          01                    Head of the Unit   \n",
       "2          02                   Integrity Officer   \n",
       "3          03                             Members   \n",
       "4          04                             Members   \n",
       "\n",
       "                                                   2  \n",
       "0                Name of the Officer and Designation  \n",
       "1       Mrs. D.H.S. Pullaperuma Additional Secretary  \n",
       "2  Mr. M.M.C.P. Mohottigedera Additional Director...  \n",
       "3           Mr.P.H.A.S.Wijayarathne Director General  \n",
       "4      Mr. Bandula Abeyrathne Chief Internal Auditor  "
      ]
     },
     "execution_count": 5,
     "metadata": {},
     "output_type": "execute_result"
    }
   ],
   "source": [
    "import pandas as pd\n",
    "url = \"https://www.treasury.gov.lk/web/mof-internal-affairs-unit/section/composition%20of%20internal%20affairs%20unit%20\"\n",
    "tables = pd.read_html(url)\n",
    "len(tables)\n",
    "print(f\"found{len(tables)}tables\")\n",
    "tables[0].head()"
   ]
  },
  {
   "cell_type": "code",
   "execution_count": 1,
   "id": "dbee40b9",
   "metadata": {},
   "outputs": [
    {
     "ename": "FileNotFoundError",
     "evalue": "[Errno 2] No such file or directory: 'C:\\\\Users\\\\SHAN BRAHMANA\\\\Desktop\\\\Group_Project-2009\\\\PaperAdvertisement-English.pdf'",
     "output_type": "error",
     "traceback": [
      "\u001b[1;31m---------------------------------------------------------------------------\u001b[0m",
      "\u001b[1;31mFileNotFoundError\u001b[0m                         Traceback (most recent call last)",
      "Cell \u001b[1;32mIn[1], line 4\u001b[0m\n\u001b[0;32m      1\u001b[0m \u001b[38;5;66;03m#PyPDF2 - Vacancy details scrape\u001b[39;00m\n\u001b[0;32m      2\u001b[0m \u001b[38;5;28;01mfrom\u001b[39;00m \u001b[38;5;21;01mPyPDF2\u001b[39;00m \u001b[38;5;28;01mimport\u001b[39;00m PdfReader\n\u001b[1;32m----> 4\u001b[0m reader \u001b[38;5;241m=\u001b[39m PdfReader(\u001b[38;5;124mr\u001b[39m\u001b[38;5;124m\"\u001b[39m\u001b[38;5;124mC:\u001b[39m\u001b[38;5;124m\\\u001b[39m\u001b[38;5;124mUsers\u001b[39m\u001b[38;5;124m\\\u001b[39m\u001b[38;5;124mSHAN BRAHMANA\u001b[39m\u001b[38;5;124m\\\u001b[39m\u001b[38;5;124mDesktop\u001b[39m\u001b[38;5;124m\\\u001b[39m\u001b[38;5;124mGroup_Project-2009\u001b[39m\u001b[38;5;124m\\\u001b[39m\u001b[38;5;124mPaperAdvertisement-English.pdf\u001b[39m\u001b[38;5;124m\"\u001b[39m)\n\u001b[0;32m      5\u001b[0m page \u001b[38;5;241m=\u001b[39m reader\u001b[38;5;241m.\u001b[39mpages[\u001b[38;5;241m0\u001b[39m]\n\u001b[0;32m      6\u001b[0m \u001b[38;5;28mprint\u001b[39m(page\u001b[38;5;241m.\u001b[39mextract_text())\n",
      "File \u001b[1;32mc:\\Users\\DELL\\anaconda3\\Lib\\site-packages\\PyPDF2\\_reader.py:317\u001b[0m, in \u001b[0;36mPdfReader.__init__\u001b[1;34m(self, stream, strict, password)\u001b[0m\n\u001b[0;32m    311\u001b[0m     logger_warning(\n\u001b[0;32m    312\u001b[0m         \u001b[38;5;124m\"\u001b[39m\u001b[38;5;124mPdfReader stream/file object is not in binary mode. \u001b[39m\u001b[38;5;124m\"\u001b[39m\n\u001b[0;32m    313\u001b[0m         \u001b[38;5;124m\"\u001b[39m\u001b[38;5;124mIt may not be read correctly.\u001b[39m\u001b[38;5;124m\"\u001b[39m,\n\u001b[0;32m    314\u001b[0m         \u001b[38;5;18m__name__\u001b[39m,\n\u001b[0;32m    315\u001b[0m     )\n\u001b[0;32m    316\u001b[0m \u001b[38;5;28;01mif\u001b[39;00m \u001b[38;5;28misinstance\u001b[39m(stream, (\u001b[38;5;28mstr\u001b[39m, Path)):\n\u001b[1;32m--> 317\u001b[0m     \u001b[38;5;28;01mwith\u001b[39;00m \u001b[38;5;28mopen\u001b[39m(stream, \u001b[38;5;124m\"\u001b[39m\u001b[38;5;124mrb\u001b[39m\u001b[38;5;124m\"\u001b[39m) \u001b[38;5;28;01mas\u001b[39;00m fh:\n\u001b[0;32m    318\u001b[0m         stream \u001b[38;5;241m=\u001b[39m BytesIO(fh\u001b[38;5;241m.\u001b[39mread())\n\u001b[0;32m    319\u001b[0m \u001b[38;5;28mself\u001b[39m\u001b[38;5;241m.\u001b[39mread(stream)\n",
      "\u001b[1;31mFileNotFoundError\u001b[0m: [Errno 2] No such file or directory: 'C:\\\\Users\\\\SHAN BRAHMANA\\\\Desktop\\\\Group_Project-2009\\\\PaperAdvertisement-English.pdf'"
     ]
    }
   ],
   "source": [
    "#PyPDF2 - Vacancy details scrape\n",
    "from PyPDF2 import PdfReader\n",
    "\n",
    "reader = PdfReader(r\"C:\\Users\\SHAN BRAHMANA\\Desktop\\Group_Project-2009\\PaperAdvertisement-English.pdf\")\n",
    "page = reader.pages[0]\n",
    "print(page.extract_text())"
   ]
  },
  {
   "cell_type": "code",
   "execution_count": 2,
   "id": "e36233f1",
   "metadata": {},
   "outputs": [
    {
     "name": "stdout",
     "output_type": "stream",
     "text": [
      "Note: you may need to restart the kernel to use updated packages.\n"
     ]
    },
    {
     "name": "stderr",
     "output_type": "stream",
     "text": [
      "ERROR: unknown command \"import\"\n",
      "\n"
     ]
    }
   ],
   "source": [
    "pip import pdfplumber"
   ]
  },
  {
   "cell_type": "code",
   "execution_count": 3,
   "id": "37ded6f6",
   "metadata": {},
   "outputs": [
    {
     "name": "stdout",
     "output_type": "stream",
     "text": [
      "Name: pdfplumber\n",
      "Version: 0.11.7\n",
      "Summary: Plumb a PDF for detailed information about each char, rectangle, and line.\n",
      "Home-page: https://github.com/jsvine/pdfplumber\n",
      "Author: Jeremy Singer-Vine\n",
      "Author-email: jsvine@gmail.com\n",
      "License: \n",
      "Location: c:\\Users\\DELL\\anaconda3\\Lib\\site-packages\n",
      "Requires: pdfminer.six, Pillow, pypdfium2\n",
      "Required-by: \n",
      "Note: you may need to restart the kernel to use updated packages.\n"
     ]
    }
   ],
   "source": [
    "pip show pdfplumber"
   ]
  },
  {
   "cell_type": "code",
   "execution_count": 4,
   "id": "61d2421e",
   "metadata": {},
   "outputs": [
    {
     "ename": "FileNotFoundError",
     "evalue": "[Errno 2] No such file or directory: 'port_city_Tables.pdf'",
     "output_type": "error",
     "traceback": [
      "\u001b[1;31m---------------------------------------------------------------------------\u001b[0m",
      "\u001b[1;31mFileNotFoundError\u001b[0m                         Traceback (most recent call last)",
      "Cell \u001b[1;32mIn[4], line 5\u001b[0m\n\u001b[0;32m      1\u001b[0m \u001b[38;5;28;01mimport\u001b[39;00m \u001b[38;5;21;01mpdfplumber\u001b[39;00m\n\u001b[0;32m      2\u001b[0m \u001b[38;5;28;01mimport\u001b[39;00m \u001b[38;5;21;01mpandas\u001b[39;00m \u001b[38;5;28;01mas\u001b[39;00m \u001b[38;5;21;01mpd\u001b[39;00m\n\u001b[1;32m----> 5\u001b[0m \u001b[38;5;28;01mwith\u001b[39;00m pdfplumber\u001b[38;5;241m.\u001b[39mopen(\u001b[38;5;124m\"\u001b[39m\u001b[38;5;124mport_city_Tables.pdf\u001b[39m\u001b[38;5;124m\"\u001b[39m) \u001b[38;5;28;01mas\u001b[39;00m pdf:\n\u001b[0;32m      6\u001b[0m     page \u001b[38;5;241m=\u001b[39m pdf\u001b[38;5;241m.\u001b[39mpages[\u001b[38;5;241m0\u001b[39m]\n\u001b[0;32m      7\u001b[0m     tables \u001b[38;5;241m=\u001b[39m page\u001b[38;5;241m.\u001b[39mextract_tables()\n",
      "File \u001b[1;32mc:\\Users\\DELL\\anaconda3\\Lib\\site-packages\\pdfplumber\\pdf.py:98\u001b[0m, in \u001b[0;36mPDF.open\u001b[1;34m(cls, path_or_fp, pages, laparams, password, strict_metadata, unicode_norm, repair, gs_path, repair_setting, raise_unicode_errors)\u001b[0m\n\u001b[0;32m     96\u001b[0m     path \u001b[38;5;241m=\u001b[39m \u001b[38;5;28;01mNone\u001b[39;00m\n\u001b[0;32m     97\u001b[0m \u001b[38;5;28;01melif\u001b[39;00m \u001b[38;5;28misinstance\u001b[39m(path_or_fp, (\u001b[38;5;28mstr\u001b[39m, pathlib\u001b[38;5;241m.\u001b[39mPath)):\n\u001b[1;32m---> 98\u001b[0m     stream \u001b[38;5;241m=\u001b[39m \u001b[38;5;28mopen\u001b[39m(path_or_fp, \u001b[38;5;124m\"\u001b[39m\u001b[38;5;124mrb\u001b[39m\u001b[38;5;124m\"\u001b[39m)\n\u001b[0;32m     99\u001b[0m     stream_is_external \u001b[38;5;241m=\u001b[39m \u001b[38;5;28;01mFalse\u001b[39;00m\n\u001b[0;32m    100\u001b[0m     path \u001b[38;5;241m=\u001b[39m pathlib\u001b[38;5;241m.\u001b[39mPath(path_or_fp)\n",
      "\u001b[1;31mFileNotFoundError\u001b[0m: [Errno 2] No such file or directory: 'port_city_Tables.pdf'"
     ]
    }
   ],
   "source": [
    "import pdfplumber\n",
    "import pandas as pd\n",
    "\n",
    "\n",
    "with pdfplumber.open(\"port_city_Tables.pdf\") as pdf:\n",
    "    page = pdf.pages[0]\n",
    "    tables = page.extract_tables()\n",
    "if tables:\n",
    "        table = tables[0]\n",
    "        df = pd.DataFrame(table[1:], columns=table[0])\n",
    "        print(df)\n",
    "else:\n",
    "        print(\"No tables found on page 1.\")"
   ]
  },
  {
   "cell_type": "code",
   "execution_count": 5,
   "id": "0d0d7074",
   "metadata": {},
   "outputs": [
    {
     "ename": "FileNotFoundError",
     "evalue": "[Errno 2] No such file or directory: 'Debt Data Report 2024-20250630.pdf.pdf'",
     "output_type": "error",
     "traceback": [
      "\u001b[1;31m---------------------------------------------------------------------------\u001b[0m",
      "\u001b[1;31mFileNotFoundError\u001b[0m                         Traceback (most recent call last)",
      "Cell \u001b[1;32mIn[5], line 4\u001b[0m\n\u001b[0;32m      1\u001b[0m \u001b[38;5;66;03m#Scrape image as mata data\u001b[39;00m\n\u001b[0;32m      3\u001b[0m \u001b[38;5;28;01mimport\u001b[39;00m \u001b[38;5;21;01mpdfplumber\u001b[39;00m\n\u001b[1;32m----> 4\u001b[0m \u001b[38;5;28;01mwith\u001b[39;00m pdfplumber\u001b[38;5;241m.\u001b[39mopen(\u001b[38;5;124m\"\u001b[39m\u001b[38;5;124mDebt Data Report 2024-20250630.pdf.pdf\u001b[39m\u001b[38;5;124m\"\u001b[39m) \u001b[38;5;28;01mas\u001b[39;00m pdf:\n\u001b[0;32m      5\u001b[0m     page \u001b[38;5;241m=\u001b[39m pdf\u001b[38;5;241m.\u001b[39mpages[\u001b[38;5;241m4\u001b[39m] \n\u001b[0;32m      6\u001b[0m     \u001b[38;5;28mprint\u001b[39m(page\u001b[38;5;241m.\u001b[39mimages)\n",
      "File \u001b[1;32mc:\\Users\\DELL\\anaconda3\\Lib\\site-packages\\pdfplumber\\pdf.py:98\u001b[0m, in \u001b[0;36mPDF.open\u001b[1;34m(cls, path_or_fp, pages, laparams, password, strict_metadata, unicode_norm, repair, gs_path, repair_setting, raise_unicode_errors)\u001b[0m\n\u001b[0;32m     96\u001b[0m     path \u001b[38;5;241m=\u001b[39m \u001b[38;5;28;01mNone\u001b[39;00m\n\u001b[0;32m     97\u001b[0m \u001b[38;5;28;01melif\u001b[39;00m \u001b[38;5;28misinstance\u001b[39m(path_or_fp, (\u001b[38;5;28mstr\u001b[39m, pathlib\u001b[38;5;241m.\u001b[39mPath)):\n\u001b[1;32m---> 98\u001b[0m     stream \u001b[38;5;241m=\u001b[39m \u001b[38;5;28mopen\u001b[39m(path_or_fp, \u001b[38;5;124m\"\u001b[39m\u001b[38;5;124mrb\u001b[39m\u001b[38;5;124m\"\u001b[39m)\n\u001b[0;32m     99\u001b[0m     stream_is_external \u001b[38;5;241m=\u001b[39m \u001b[38;5;28;01mFalse\u001b[39;00m\n\u001b[0;32m    100\u001b[0m     path \u001b[38;5;241m=\u001b[39m pathlib\u001b[38;5;241m.\u001b[39mPath(path_or_fp)\n",
      "\u001b[1;31mFileNotFoundError\u001b[0m: [Errno 2] No such file or directory: 'Debt Data Report 2024-20250630.pdf.pdf'"
     ]
    }
   ],
   "source": [
    "#Scrape image as mata data\n",
    "\n",
    "import pdfplumber\n",
    "with pdfplumber.open(\"Debt Data Report 2024-20250630.pdf.pdf\") as pdf:\n",
    "    page = pdf.pages[4] \n",
    "    print(page.images) "
   ]
  }
 ],
 "metadata": {
  "kernelspec": {
   "display_name": "base",
   "language": "python",
   "name": "python3"
  },
  "language_info": {
   "codemirror_mode": {
    "name": "ipython",
    "version": 3
   },
   "file_extension": ".py",
   "mimetype": "text/x-python",
   "name": "python",
   "nbconvert_exporter": "python",
   "pygments_lexer": "ipython3",
   "version": "3.12.7"
  }
 },
 "nbformat": 4,
 "nbformat_minor": 5
}
