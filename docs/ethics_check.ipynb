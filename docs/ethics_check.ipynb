{
 "cells": [
  {
   "cell_type": "markdown",
   "id": "95c72208",
   "metadata": {},
   "source": [
    "# Ethics & Compliance Check\n",
    "\n",
    "This notebook verifies that our scraping activity follows ethical guidelines:\n",
    "- Respect the website’s **robots.txt**\n",
    "- Avoid login/captcha/paywall areas\n",
    "- Use reasonable request rates\n",
    "- Identify scraper with a clear `User-Agent`\n"
   ]
  },
  {
   "cell_type": "code",
   "execution_count": 1,
   "id": "d2a229f4",
   "metadata": {},
   "outputs": [
    {
     "name": "stdout",
     "output_type": "stream",
     "text": [
      "❌ robots.txt not found or not accessible.\n"
     ]
    }
   ],
   "source": [
    "import requests\n",
    "\n",
    "url = \"https://www.treasury.gov.lk/robots.txt\"\n",
    "response = requests.get(url)\n",
    "\n",
    "if response.status_code == 200:\n",
    "    print(\"✅ robots.txt found:\")\n",
    "    print(response.text)\n",
    "else:\n",
    "    print(\"❌ robots.txt not found or not accessible.\")\n"
   ]
  },
  {
   "cell_type": "code",
   "execution_count": 2,
   "id": "28e0b6c4",
   "metadata": {},
   "outputs": [
    {
     "name": "stdout",
     "output_type": "stream",
     "text": [
      "\n",
      "Ethical Scraping Practices for This Project:\n",
      "1. Respect robots.txt rules and disallow paths.\n",
      "2. No scraping of personal/private data.\n",
      "3. Wait 1–2 seconds between requests.\n",
      "4. Identify our scraper in the User-Agent header.\n",
      "5. Store only public, non-sensitive data.\n",
      "\n"
     ]
    }
   ],
   "source": [
    "ethical_notes = \"\"\"\n",
    "Ethical Scraping Practices for This Project:\n",
    "1. Respect robots.txt rules and disallow paths.\n",
    "2. No scraping of personal/private data.\n",
    "3. Wait 1–2 seconds between requests.\n",
    "4. Identify our scraper in the User-Agent header.\n",
    "5. Store only public, non-sensitive data.\n",
    "\"\"\"\n",
    "\n",
    "print(ethical_notes)\n"
   ]
  },
  {
   "cell_type": "code",
   "execution_count": 3,
   "id": "cd07987c",
   "metadata": {},
   "outputs": [
    {
     "name": "stdout",
     "output_type": "stream",
     "text": [
      "Status Code: 200\n"
     ]
    }
   ],
   "source": [
    "headers = {\n",
    "    \"User-Agent\": \"Group5Scraper/1.0 (+https://github.com/YourGitHubRepoLink)\"\n",
    "}\n",
    "\n",
    "# Example request using User-Agent\n",
    "test_url = \"https://www.treasury.gov.lk/\"\n",
    "test_response = requests.get(test_url, headers=headers)\n",
    "\n",
    "print(\"Status Code:\", test_response.status_code)\n"
   ]
  },
  {
   "cell_type": "code",
   "execution_count": null,
   "id": "6b666978",
   "metadata": {},
   "outputs": [],
   "source": []
  }
 ],
 "metadata": {
  "kernelspec": {
   "display_name": "base",
   "language": "python",
   "name": "python3"
  },
  "language_info": {
   "codemirror_mode": {
    "name": "ipython",
    "version": 3
   },
   "file_extension": ".py",
   "mimetype": "text/x-python",
   "name": "python",
   "nbconvert_exporter": "python",
   "pygments_lexer": "ipython3",
   "version": "3.12.7"
  }
 },
 "nbformat": 4,
 "nbformat_minor": 5
}
