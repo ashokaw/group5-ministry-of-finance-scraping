{
 "cells": [
  {
   "cell_type": "markdown",
   "id": "89c887d2",
   "metadata": {},
   "source": [
    "# Static Data Scraper\n",
    "\n",
    "This notebook extracts static data (HTML tables/text) from the [Sri Lanka Treasury website](https://www.treasury.gov.lk/) using:\n",
    "- `requests` to fetch HTML\n",
    "- `BeautifulSoup` to parse and navigate\n",
    "- `pandas` to read HTML tables\n"
   ]
  },
  {
   "cell_type": "code",
   "execution_count": 1,
   "id": "54dc33b5",
   "metadata": {},
   "outputs": [
    {
     "name": "stdout",
     "output_type": "stream",
     "text": [
      "✅ Libraries imported successfully.\n"
     ]
    }
   ],
   "source": [
    "import requests\n",
    "from bs4 import BeautifulSoup\n",
    "import pandas as pd\n",
    "\n",
    "print(\"✅ Libraries imported successfully.\")\n"
   ]
  },
  {
   "cell_type": "markdown",
   "id": "09ece441",
   "metadata": {},
   "source": [
    "Fetch homepage HTML"
   ]
  },
  {
   "cell_type": "code",
   "execution_count": 2,
   "id": "765d5288",
   "metadata": {},
   "outputs": [
    {
     "name": "stdout",
     "output_type": "stream",
     "text": [
      "✅ Page fetched successfully.\n"
     ]
    }
   ],
   "source": [
    "url = \"https://www.treasury.gov.lk/\"\n",
    "headers = {\"User-Agent\": \"Group5Scraper/1.0 (+https://github.com/YourGitHubRepoLink)\"}\n",
    "\n",
    "response = requests.get(url, headers=headers)\n",
    "\n",
    "if response.status_code == 200:\n",
    "    html_content = response.text\n",
    "    print(\"✅ Page fetched successfully.\")\n",
    "else:\n",
    "    print(\"❌ Failed to fetch page. Status code:\", response.status_code)\n"
   ]
  },
  {
   "cell_type": "markdown",
   "id": "b5ed1d5e",
   "metadata": {},
   "source": [
    "Parse with BeautifulSoup"
   ]
  },
  {
   "cell_type": "code",
   "execution_count": 3,
   "id": "11080b7b",
   "metadata": {},
   "outputs": [
    {
     "name": "stdout",
     "output_type": "stream",
     "text": [
      "✅ Found 4 tables.\n"
     ]
    },
    {
     "data": {
      "text/html": [
       "<div>\n",
       "<style scoped>\n",
       "    .dataframe tbody tr th:only-of-type {\n",
       "        vertical-align: middle;\n",
       "    }\n",
       "\n",
       "    .dataframe tbody tr th {\n",
       "        vertical-align: top;\n",
       "    }\n",
       "\n",
       "    .dataframe thead th {\n",
       "        text-align: right;\n",
       "    }\n",
       "</style>\n",
       "<table border=\"1\" class=\"dataframe\">\n",
       "  <thead>\n",
       "    <tr style=\"text-align: right;\">\n",
       "      <th></th>\n",
       "      <th>Currency</th>\n",
       "      <th>Buying</th>\n",
       "      <th>Selling</th>\n",
       "    </tr>\n",
       "  </thead>\n",
       "  <tbody>\n",
       "    <tr>\n",
       "      <th>0</th>\n",
       "      <td>USD</td>\n",
       "      <td>297.35LKR</td>\n",
       "      <td>304.87LKR</td>\n",
       "    </tr>\n",
       "    <tr>\n",
       "      <th>1</th>\n",
       "      <td>GBP</td>\n",
       "      <td>401.53LKR</td>\n",
       "      <td>414.18LKR</td>\n",
       "    </tr>\n",
       "  </tbody>\n",
       "</table>\n",
       "</div>"
      ],
      "text/plain": [
       "  Currency     Buying    Selling\n",
       "0      USD  297.35LKR  304.87LKR\n",
       "1      GBP  401.53LKR  414.18LKR"
      ]
     },
     "metadata": {},
     "output_type": "display_data"
    }
   ],
   "source": [
    "try:\n",
    "    tables = pd.read_html(url)\n",
    "    print(f\"✅ Found {len(tables)} tables.\")\n",
    "    if tables:\n",
    "        display(tables[0])  # Show first table\n",
    "except Exception as e:\n",
    "    print(\"⚠️ No HTML tables found or error reading tables:\", e)\n"
   ]
  },
  {
   "cell_type": "markdown",
   "id": "b6485168",
   "metadata": {},
   "source": [
    "Save HTML to file"
   ]
  },
  {
   "cell_type": "code",
   "execution_count": 5,
   "id": "7ca9be08",
   "metadata": {},
   "outputs": [
    {
     "name": "stdout",
     "output_type": "stream",
     "text": [
      "💾 HTML saved to data_raw/treasury_homepage.html\n"
     ]
    }
   ],
   "source": [
    "with open(\"data_raw/treasury_homepage.html\", \"w\", encoding=\"utf-8\") as f:\n",
    "    f.write(html_content)\n",
    "\n",
    "print(\"💾 HTML saved to data_raw/treasury_homepage.html\")\n"
   ]
  },
  {
   "cell_type": "code",
   "execution_count": 8,
   "id": "59ceba8a",
   "metadata": {},
   "outputs": [
    {
     "name": "stdout",
     "output_type": "stream",
     "text": [
      "✅ Raw data saved to: data_raw/treasury_data_raw.csv\n"
     ]
    }
   ],
   "source": [
    "from bs4 import BeautifulSoup\n",
    "import pandas as pd\n",
    "\n",
    "# Open saved HTML file\n",
    "with open(\"data_raw/treasury_homepage.html\", \"r\", encoding=\"utf-8\") as f:\n",
    "    soup = BeautifulSoup(f, \"html.parser\")\n",
    "\n",
    "# Example scraping (modify selectors for your case)\n",
    "data = []\n",
    "for item in soup.find_all(\"a\"):  \n",
    "    data.append({\n",
    "        \"text\": item.get_text(strip=True),\n",
    "        \"link\": item.get(\"href\")\n",
    "    })\n",
    "\n",
    "# Convert to DataFrame\n",
    "df = pd.DataFrame(data)\n",
    "\n",
    "# Save raw CSV\n",
    "output_path = \"data_raw/treasury_data_raw.csv\"\n",
    "df.to_csv(output_path, index=False, encoding=\"utf-8\")\n",
    "print(f\"✅ Raw data saved to: {output_path}\")\n"
   ]
  }
 ],
 "metadata": {
  "kernelspec": {
   "display_name": "base",
   "language": "python",
   "name": "python3"
  },
  "language_info": {
   "codemirror_mode": {
    "name": "ipython",
    "version": 3
   },
   "file_extension": ".py",
   "mimetype": "text/x-python",
   "name": "python",
   "nbconvert_exporter": "python",
   "pygments_lexer": "ipython3",
   "version": "3.12.7"
  }
 },
 "nbformat": 4,
 "nbformat_minor": 5
}
