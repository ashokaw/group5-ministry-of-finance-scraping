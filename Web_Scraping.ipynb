{
 "cells": [
  {
   "cell_type": "code",
   "execution_count": 3,
   "id": "211c4b3b",
   "metadata": {},
   "outputs": [
    {
     "name": "stdout",
     "output_type": "stream",
     "text": [
      "found1tables\n"
     ]
    },
    {
     "data": {
      "text/html": [
       "<div>\n",
       "<style scoped>\n",
       "    .dataframe tbody tr th:only-of-type {\n",
       "        vertical-align: middle;\n",
       "    }\n",
       "\n",
       "    .dataframe tbody tr th {\n",
       "        vertical-align: top;\n",
       "    }\n",
       "\n",
       "    .dataframe thead th {\n",
       "        text-align: right;\n",
       "    }\n",
       "</style>\n",
       "<table border=\"1\" class=\"dataframe\">\n",
       "  <thead>\n",
       "    <tr style=\"text-align: right;\">\n",
       "      <th></th>\n",
       "      <th>Date</th>\n",
       "      <th>Circular No</th>\n",
       "      <th>Title</th>\n",
       "      <th>Download</th>\n",
       "    </tr>\n",
       "  </thead>\n",
       "  <tbody>\n",
       "    <tr>\n",
       "      <th>0</th>\n",
       "      <td>11-11-2019</td>\n",
       "      <td>173/2004(I)</td>\n",
       "      <td>භාණ්ඩාගාර මුද්‍රිත ගිණුම් ප්‍රකාශ (Printout) අ...</td>\n",
       "      <td>Download</td>\n",
       "    </tr>\n",
       "    <tr>\n",
       "      <th>1</th>\n",
       "      <td>11-11-2019</td>\n",
       "      <td>173/2004(I)</td>\n",
       "      <td>Providing Treasury Monthly Accounting Statemen...</td>\n",
       "      <td>Download</td>\n",
       "    </tr>\n",
       "    <tr>\n",
       "      <th>2</th>\n",
       "      <td>29-10-2019</td>\n",
       "      <td>270/2019</td>\n",
       "      <td>பெறுமதிசேர் வரியை கணக்கு வைத்தல்</td>\n",
       "      <td>Download</td>\n",
       "    </tr>\n",
       "    <tr>\n",
       "      <th>3</th>\n",
       "      <td>29-10-2019</td>\n",
       "      <td>270/2019</td>\n",
       "      <td>Accounting of the Value Added Tax</td>\n",
       "      <td>Download</td>\n",
       "    </tr>\n",
       "    <tr>\n",
       "      <th>4</th>\n",
       "      <td>29-10-2019</td>\n",
       "      <td>270/2019</td>\n",
       "      <td>එකතු කළ අගය මත බදු ගිණුම්ගත කිරිම</td>\n",
       "      <td>Download</td>\n",
       "    </tr>\n",
       "  </tbody>\n",
       "</table>\n",
       "</div>"
      ],
      "text/plain": [
       "         Date  Circular No                                              Title  \\\n",
       "0  11-11-2019  173/2004(I)  භාණ්ඩාගාර මුද්‍රිත ගිණුම් ප්‍රකාශ (Printout) අ...   \n",
       "1  11-11-2019  173/2004(I)  Providing Treasury Monthly Accounting Statemen...   \n",
       "2  29-10-2019     270/2019                   பெறுமதிசேர் வரியை கணக்கு வைத்தல்   \n",
       "3  29-10-2019     270/2019                  Accounting of the Value Added Tax   \n",
       "4  29-10-2019     270/2019                  එකතු කළ අගය මත බදු ගිණුම්ගත කිරිම   \n",
       "\n",
       "   Download  \n",
       "0  Download  \n",
       "1  Download  \n",
       "2  Download  \n",
       "3  Download  \n",
       "4  Download  "
      ]
     },
     "execution_count": 3,
     "metadata": {},
     "output_type": "execute_result"
    }
   ],
   "source": [
    "import pandas as pd\n",
    "url =\"https://www.treasury.gov.lk/web/state-accounts-department-circular/section/2019\"\n",
    "tables = pd.read_html(url)\n",
    "len(tables)\n",
    "print(f\"found{len(tables)}tables\")\n",
    "tables[0].head()"
   ]
  },
  {
   "cell_type": "code",
   "execution_count": 7,
   "id": "39c8953e",
   "metadata": {},
   "outputs": [],
   "source": [
    "tables[0].to_csv(\"Circulars_2019\",index=False)"
   ]
  },
  {
   "cell_type": "code",
   "execution_count": 8,
   "id": "9140459b",
   "metadata": {},
   "outputs": [
    {
     "name": "stdout",
     "output_type": "stream",
     "text": [
      "found1tables\n"
     ]
    },
    {
     "data": {
      "text/html": [
       "<div>\n",
       "<style scoped>\n",
       "    .dataframe tbody tr th:only-of-type {\n",
       "        vertical-align: middle;\n",
       "    }\n",
       "\n",
       "    .dataframe tbody tr th {\n",
       "        vertical-align: top;\n",
       "    }\n",
       "\n",
       "    .dataframe thead th {\n",
       "        text-align: right;\n",
       "    }\n",
       "</style>\n",
       "<table border=\"1\" class=\"dataframe\">\n",
       "  <thead>\n",
       "    <tr style=\"text-align: right;\">\n",
       "      <th></th>\n",
       "      <th>0</th>\n",
       "      <th>1</th>\n",
       "      <th>2</th>\n",
       "    </tr>\n",
       "  </thead>\n",
       "  <tbody>\n",
       "    <tr>\n",
       "      <th>0</th>\n",
       "      <td>Serial No.</td>\n",
       "      <td>Positions of Internal Affairs Unit</td>\n",
       "      <td>Name of the Officer and Designation</td>\n",
       "    </tr>\n",
       "    <tr>\n",
       "      <th>1</th>\n",
       "      <td>01</td>\n",
       "      <td>Head of the Unit</td>\n",
       "      <td>Mrs. D.H.S. Pullaperuma Additional Secretary</td>\n",
       "    </tr>\n",
       "    <tr>\n",
       "      <th>2</th>\n",
       "      <td>02</td>\n",
       "      <td>Integrity Officer</td>\n",
       "      <td>Mr. M.M.C.P. Mohottigedera Additional Director...</td>\n",
       "    </tr>\n",
       "    <tr>\n",
       "      <th>3</th>\n",
       "      <td>03</td>\n",
       "      <td>Members</td>\n",
       "      <td>Mr.P.H.A.S.Wijayarathne Director General</td>\n",
       "    </tr>\n",
       "    <tr>\n",
       "      <th>4</th>\n",
       "      <td>04</td>\n",
       "      <td>Members</td>\n",
       "      <td>Mr. Bandula Abeyrathne Chief Internal Auditor</td>\n",
       "    </tr>\n",
       "  </tbody>\n",
       "</table>\n",
       "</div>"
      ],
      "text/plain": [
       "            0                                   1  \\\n",
       "0  Serial No.  Positions of Internal Affairs Unit   \n",
       "1          01                    Head of the Unit   \n",
       "2          02                   Integrity Officer   \n",
       "3          03                             Members   \n",
       "4          04                             Members   \n",
       "\n",
       "                                                   2  \n",
       "0                Name of the Officer and Designation  \n",
       "1       Mrs. D.H.S. Pullaperuma Additional Secretary  \n",
       "2  Mr. M.M.C.P. Mohottigedera Additional Director...  \n",
       "3           Mr.P.H.A.S.Wijayarathne Director General  \n",
       "4      Mr. Bandula Abeyrathne Chief Internal Auditor  "
      ]
     },
     "execution_count": 8,
     "metadata": {},
     "output_type": "execute_result"
    }
   ],
   "source": [
    "import pandas as pd\n",
    "url = \"https://www.treasury.gov.lk/web/mof-internal-affairs-unit/section/composition%20of%20internal%20affairs%20unit%20\"\n",
    "tables = pd.read_html(url)\n",
    "len(tables)\n",
    "print(f\"found{len(tables)}tables\")\n",
    "tables[0].head()"
   ]
  },
  {
   "cell_type": "code",
   "execution_count": 9,
   "id": "77b1db69",
   "metadata": {},
   "outputs": [],
   "source": [
    "tables[0].to_csv(\"Internal_affairs_unit\",index=False)"
   ]
  },
  {
   "cell_type": "code",
   "execution_count": null,
   "id": "70870a51",
   "metadata": {},
   "outputs": [],
   "source": []
  }
 ],
 "metadata": {
  "kernelspec": {
   "display_name": "Python 3",
   "language": "python",
   "name": "python3"
  },
  "language_info": {
   "codemirror_mode": {
    "name": "ipython",
    "version": 3
   },
   "file_extension": ".py",
   "mimetype": "text/x-python",
   "name": "python",
   "nbconvert_exporter": "python",
   "pygments_lexer": "ipython3",
   "version": "3.13.5"
  }
 },
 "nbformat": 4,
 "nbformat_minor": 5
}
